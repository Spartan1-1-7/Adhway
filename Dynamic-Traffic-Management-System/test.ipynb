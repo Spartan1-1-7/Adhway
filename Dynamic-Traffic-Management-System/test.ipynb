{
 "cells": [
  {
   "cell_type": "code",
   "execution_count": 1,
   "metadata": {},
   "outputs": [
    {
     "ename": "NameError",
     "evalue": "name '__file__' is not defined",
     "output_type": "error",
     "traceback": [
      "\u001b[1;31m---------------------------------------------------------------------------\u001b[0m",
      "\u001b[1;31mNameError\u001b[0m                                 Traceback (most recent call last)",
      "Cell \u001b[1;32mIn[1], line 5\u001b[0m\n\u001b[0;32m      2\u001b[0m \u001b[38;5;28;01mimport\u001b[39;00m \u001b[38;5;21;01mcv2\u001b[39;00m\n\u001b[0;32m      4\u001b[0m \u001b[38;5;66;03m# Get the absolute path of the current script\u001b[39;00m\n\u001b[1;32m----> 5\u001b[0m base_path \u001b[38;5;241m=\u001b[39m os\u001b[38;5;241m.\u001b[39mpath\u001b[38;5;241m.\u001b[39mdirname(os\u001b[38;5;241m.\u001b[39mpath\u001b[38;5;241m.\u001b[39mabspath(\u001b[38;5;18;43m__file__\u001b[39;49m))\n\u001b[0;32m      7\u001b[0m \u001b[38;5;66;03m# Construct the absolute paths for the config and weights files\u001b[39;00m\n\u001b[0;32m      8\u001b[0m config_path \u001b[38;5;241m=\u001b[39m os\u001b[38;5;241m.\u001b[39mpath\u001b[38;5;241m.\u001b[39mjoin(base_path, \u001b[38;5;124m\"\u001b[39m\u001b[38;5;124mdnn_model/yolov4.cfg\u001b[39m\u001b[38;5;124m\"\u001b[39m)\n",
      "\u001b[1;31mNameError\u001b[0m: name '__file__' is not defined"
     ]
    }
   ],
   "source": [
    "import os\n",
    "import cv2\n",
    "\n",
    "# Get the absolute path of the current script\n",
    "base_path = os.path.dirname(os.path.abspath(__file__))\n",
    "\n",
    "# Construct the absolute paths for the config and weights files\n",
    "config_path = os.path.join(base_path, \"dnn_model/yolov4.cfg\")\n",
    "weights_path = os.path.join(base_path, \"dnn_model/yolov4.weights\")\n",
    "\n",
    "# Print paths for debugging purposes\n",
    "print(f\"Config Path: {config_path}\")\n",
    "print(f\"Weights Path: {weights_path}\")\n",
    "\n",
    "# Load the YOLO model using the absolute paths\n",
    "net = cv2.dnn.readNet(weights_path, config_path)\n",
    "\n",
    "# Proceed with the rest of your code\n",
    "model = cv2.dnn_DetectionModel(net)\n",
    "model.setInputParams(size=(832, 832), scale=1/255)"
   ]
  },
  {
   "cell_type": "code",
   "execution_count": 2,
   "metadata": {},
   "outputs": [
    {
     "name": "stdout",
     "output_type": "stream",
     "text": [
      "Config Path: d:\\Adhway\\Dynamic-Traffic-Management-System\\dnn_model/yolov4.cfg\n",
      "Weights Path: d:\\Adhway\\Dynamic-Traffic-Management-System\\dnn_model/yolov4.weights\n"
     ]
    },
    {
     "ename": "error",
     "evalue": "OpenCV(4.10.0) D:\\bld\\libopencv_1723431313392\\work\\modules\\dnn\\src\\darknet\\darknet_importer.cpp:210: error: (-212:Parsing error) Failed to open NetParameter file: d:\\Adhway\\Dynamic-Traffic-Management-System\\dnn_model/yolov4.cfg in function 'cv::dnn::dnn4_v20240521::readNetFromDarknet'\n",
     "output_type": "error",
     "traceback": [
      "\u001b[1;31m---------------------------------------------------------------------------\u001b[0m",
      "\u001b[1;31merror\u001b[0m                                     Traceback (most recent call last)",
      "Cell \u001b[1;32mIn[2], line 16\u001b[0m\n\u001b[0;32m     13\u001b[0m \u001b[38;5;28mprint\u001b[39m(\u001b[38;5;124mf\u001b[39m\u001b[38;5;124m\"\u001b[39m\u001b[38;5;124mWeights Path: \u001b[39m\u001b[38;5;132;01m{\u001b[39;00mweights_path\u001b[38;5;132;01m}\u001b[39;00m\u001b[38;5;124m\"\u001b[39m)\n\u001b[0;32m     15\u001b[0m \u001b[38;5;66;03m# Load the YOLO model using the absolute paths\u001b[39;00m\n\u001b[1;32m---> 16\u001b[0m net \u001b[38;5;241m=\u001b[39m \u001b[43mcv2\u001b[49m\u001b[38;5;241;43m.\u001b[39;49m\u001b[43mdnn\u001b[49m\u001b[38;5;241;43m.\u001b[39;49m\u001b[43mreadNet\u001b[49m\u001b[43m(\u001b[49m\u001b[43mweights_path\u001b[49m\u001b[43m,\u001b[49m\u001b[43m \u001b[49m\u001b[43mconfig_path\u001b[49m\u001b[43m)\u001b[49m\n\u001b[0;32m     18\u001b[0m \u001b[38;5;66;03m# Proceed with the rest of your code\u001b[39;00m\n\u001b[0;32m     19\u001b[0m model \u001b[38;5;241m=\u001b[39m cv2\u001b[38;5;241m.\u001b[39mdnn_DetectionModel(net)\n",
      "\u001b[1;31merror\u001b[0m: OpenCV(4.10.0) D:\\bld\\libopencv_1723431313392\\work\\modules\\dnn\\src\\darknet\\darknet_importer.cpp:210: error: (-212:Parsing error) Failed to open NetParameter file: d:\\Adhway\\Dynamic-Traffic-Management-System\\dnn_model/yolov4.cfg in function 'cv::dnn::dnn4_v20240521::readNetFromDarknet'\n"
     ]
    }
   ],
   "source": [
    "import os\n",
    "import cv2\n",
    "\n",
    "# Get the current working directory\n",
    "base_path = os.getcwd()\n",
    "\n",
    "# Construct the absolute paths for the config and weights files\n",
    "config_path = os.path.join(base_path, \"dnn_model/yolov4.cfg\")\n",
    "weights_path = os.path.join(base_path, \"dnn_model/yolov4.weights\")\n",
    "\n",
    "# Print paths for debugging purposes\n",
    "print(f\"Config Path: {config_path}\")\n",
    "print(f\"Weights Path: {weights_path}\")\n",
    "\n",
    "# Load the YOLO model using the absolute paths\n",
    "net = cv2.dnn.readNet(weights_path, config_path)\n",
    "\n",
    "# Proceed with the rest of your code\n",
    "model = cv2.dnn_DetectionModel(net)\n",
    "model.setInputParams(size=(832, 832), scale=1/255)"
   ]
  }
 ],
 "metadata": {
  "kernelspec": {
   "display_name": "venve_adhway",
   "language": "python",
   "name": "python3"
  },
  "language_info": {
   "codemirror_mode": {
    "name": "ipython",
    "version": 3
   },
   "file_extension": ".py",
   "mimetype": "text/x-python",
   "name": "python",
   "nbconvert_exporter": "python",
   "pygments_lexer": "ipython3",
   "version": "3.12.5"
  }
 },
 "nbformat": 4,
 "nbformat_minor": 2
}
