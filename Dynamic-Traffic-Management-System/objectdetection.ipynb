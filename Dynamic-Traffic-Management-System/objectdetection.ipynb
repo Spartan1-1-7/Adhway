{
 "cells": [
  {
   "cell_type": "code",
   "execution_count": 1,
   "id": "ccbbca73",
   "metadata": {},
   "outputs": [],
   "source": [
    "import cv2\n",
    "from vehicle_detector import VehicleDetector\n",
    "import glob"
   ]
  },
  {
   "cell_type": "code",
   "execution_count": 2,
   "id": "356d3baf",
   "metadata": {},
   "outputs": [],
   "source": [
    "# Load images from a folder\n",
    "images_folder = glob.glob(\"img/*.jpg\")"
   ]
  },
  {
   "cell_type": "code",
   "execution_count": 3,
   "id": "041059a8",
   "metadata": {},
   "outputs": [
    {
     "ename": "error",
     "evalue": "OpenCV(4.10.0) D:\\bld\\libopencv_1723431313392\\work\\modules\\dnn\\src\\darknet\\darknet_importer.cpp:210: error: (-212:Parsing error) Failed to open NetParameter file: dnn_model/yolov4.cfg in function 'cv::dnn::dnn4_v20240521::readNetFromDarknet'\n",
     "output_type": "error",
     "traceback": [
      "\u001b[1;31m---------------------------------------------------------------------------\u001b[0m",
      "\u001b[1;31merror\u001b[0m                                     Traceback (most recent call last)",
      "Cell \u001b[1;32mIn[3], line 1\u001b[0m\n\u001b[1;32m----> 1\u001b[0m vd \u001b[38;5;241m=\u001b[39m \u001b[43mVehicleDetector\u001b[49m\u001b[43m(\u001b[49m\u001b[43m)\u001b[49m\n\u001b[0;32m      4\u001b[0m \u001b[38;5;66;03m# Loop through all the images\u001b[39;00m\n\u001b[0;32m      5\u001b[0m \u001b[38;5;28;01mfor\u001b[39;00m img_path \u001b[38;5;129;01min\u001b[39;00m images_folder:\n\u001b[0;32m      6\u001b[0m \u001b[38;5;66;03m#     print(\"Img path\", img_path)\u001b[39;00m\n",
      "File \u001b[1;32md:\\Adhway\\Dynamic-Traffic-Management-System\\vehicle_detector.py:8\u001b[0m, in \u001b[0;36mVehicleDetector.__init__\u001b[1;34m(self)\u001b[0m\n\u001b[0;32m      6\u001b[0m \u001b[38;5;28;01mdef\u001b[39;00m \u001b[38;5;21m__init__\u001b[39m(\u001b[38;5;28mself\u001b[39m):\n\u001b[0;32m      7\u001b[0m     \u001b[38;5;66;03m# Load Network\u001b[39;00m\n\u001b[1;32m----> 8\u001b[0m     net \u001b[38;5;241m=\u001b[39m \u001b[43mcv2\u001b[49m\u001b[38;5;241;43m.\u001b[39;49m\u001b[43mdnn\u001b[49m\u001b[38;5;241;43m.\u001b[39;49m\u001b[43mreadNet\u001b[49m\u001b[43m(\u001b[49m\u001b[38;5;124;43m\"\u001b[39;49m\u001b[38;5;124;43mdnn_model/yolov4.weights\u001b[39;49m\u001b[38;5;124;43m\"\u001b[39;49m\u001b[43m,\u001b[49m\u001b[43m \u001b[49m\u001b[38;5;124;43m\"\u001b[39;49m\u001b[38;5;124;43mdnn_model/yolov4.cfg\u001b[39;49m\u001b[38;5;124;43m\"\u001b[39;49m\u001b[43m)\u001b[49m\n\u001b[0;32m      9\u001b[0m     \u001b[38;5;28mself\u001b[39m\u001b[38;5;241m.\u001b[39mmodel \u001b[38;5;241m=\u001b[39m cv2\u001b[38;5;241m.\u001b[39mdnn_DetectionModel(net)\n\u001b[0;32m     10\u001b[0m     \u001b[38;5;28mself\u001b[39m\u001b[38;5;241m.\u001b[39mmodel\u001b[38;5;241m.\u001b[39msetInputParams(size\u001b[38;5;241m=\u001b[39m(\u001b[38;5;241m832\u001b[39m, \u001b[38;5;241m832\u001b[39m), scale\u001b[38;5;241m=\u001b[39m\u001b[38;5;241m1\u001b[39m \u001b[38;5;241m/\u001b[39m \u001b[38;5;241m255\u001b[39m)\n",
      "\u001b[1;31merror\u001b[0m: OpenCV(4.10.0) D:\\bld\\libopencv_1723431313392\\work\\modules\\dnn\\src\\darknet\\darknet_importer.cpp:210: error: (-212:Parsing error) Failed to open NetParameter file: dnn_model/yolov4.cfg in function 'cv::dnn::dnn4_v20240521::readNetFromDarknet'\n"
     ]
    }
   ],
   "source": [
    "vd = VehicleDetector()\n",
    "\n",
    "\n",
    "# Loop through all the images\n",
    "for img_path in images_folder:\n",
    "#     print(\"Img path\", img_path)\n",
    "    img = cv2.imread(img_path)\n",
    "    vehicle_boxes = vd.detect_vehicles(img)\n",
    "    vehicle_count = len(vehicle_boxes)\n",
    "    \n",
    "    for box in vehicle_boxes:\n",
    "        x, y, w, h = box\n",
    "        cv2.rectangle(img, (x, y), (x + w, y + h), (25, 0, 180), 3)\n",
    "        cv2.putText(img, \"Vehicles: \" + str(vehicle_count), (20, 50), 0, 2, (100, 200, 0), 3)\n",
    "    print(\"Total current count\", vehicle_count)\n",
    "    cv2.imshow(\"Cars\", img)\n",
    "    cv2.waitKey(0)\n",
    "\n",
    "\n"
   ]
  },
  {
   "cell_type": "code",
   "execution_count": null,
   "id": "9d8735ce",
   "metadata": {},
   "outputs": [],
   "source": [
    "\n"
   ]
  }
 ],
 "metadata": {
  "kernelspec": {
   "display_name": "Python 3 (ipykernel)",
   "language": "python",
   "name": "python3"
  },
  "language_info": {
   "codemirror_mode": {
    "name": "ipython",
    "version": 3
   },
   "file_extension": ".py",
   "mimetype": "text/x-python",
   "name": "python",
   "nbconvert_exporter": "python",
   "pygments_lexer": "ipython3",
   "version": "3.12.5"
  }
 },
 "nbformat": 4,
 "nbformat_minor": 5
}
